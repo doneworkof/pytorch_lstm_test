{
 "cells": [
  {
   "cell_type": "code",
   "execution_count": 4,
   "id": "798a3cea",
   "metadata": {},
   "outputs": [],
   "source": [
    "import numpy as np\n",
    "import torch"
   ]
  },
  {
   "cell_type": "code",
   "execution_count": 5,
   "id": "0f3c8401",
   "metadata": {},
   "outputs": [],
   "source": [
    "device = torch.device(\"cuda:0\")"
   ]
  },
  {
   "cell_type": "code",
   "execution_count": 307,
   "id": "96820996",
   "metadata": {},
   "outputs": [],
   "source": [
    "characters = ' абвгдеёжзийклмнопрстуфхцчшщъыьэюя'\n",
    "chars_len = len(characters)\n",
    "seq_len = 50\n",
    "\n",
    "def index_to_char(ind):\n",
    "    return characters[ind]\n",
    "\n",
    "def char_to_index(char):\n",
    "    return characters.index(char)\n",
    "\n",
    "def to_sequence(string):\n",
    "    if len(string) < seq_len:\n",
    "        string += ' ' * (seq_len - len(string))\n",
    "    elif len(string) > seq_len:\n",
    "        string = string[len(string) - seq_len:]\n",
    "    ids = [char_to_index(ch) for ch in string.lower()]\n",
    "    return ids\n",
    "    \n",
    "def process_dataset(ds):\n",
    "    return [\n",
    "        (smpl[0], torch.tensor([[\n",
    "            [0] * ind + [1] + [0] * (chars_len - ind - 1) for ind in to_sequence(smpl[1])\n",
    "        ]], dtype=torch.float32)) for smpl in ds\n",
    "    ]"
   ]
  },
  {
   "cell_type": "code",
   "execution_count": 365,
   "id": "aee30c90",
   "metadata": {},
   "outputs": [],
   "source": [
    "dataset = [\n",
    "    ('фюрер вошёл', 'кинуть плотную зигу'),\n",
    "    ('майн фюрер появился', 'кинуть плотную зигу'),\n",
    "    ('кто то играет в майнкрафт', 'поиграть вместе'),\n",
    "    ('печенье лежит', 'съесть'),\n",
    "    ('свет горит', 'выключить'),\n",
    "    ('кофе уже готово', 'пить'),\n",
    "    ('сиденье освободилось', 'сесть'),\n",
    "    ('игра загрузилась', 'играть'),\n",
    "    ('наступила полночь', 'спать'),\n",
    "    ('кто то звонит', 'ответить'),\n",
    "    ('наступила осень', 'нападать на польшу'),\n",
    "    ('нашёлся изменник', 'расстрелять'),\n",
    "    ('сша шутит над японией', 'атомной бомбой'),\n",
    "    ('наступило лето', 'идти гулять'),\n",
    "    ('наступил ноябрь', 'начинать челлендж'),\n",
    "    ('споткнулся', 'подняться'),\n",
    "    ('вода кипит', 'посолить'),\n",
    "    ('молоко бежит', 'остановить нахер'),\n",
    "    ('керас хуже пайторча', 'никак нет'),\n",
    "    ('стол сломался', 'купить новый'),\n",
    "    ('растения засыхают', 'полить'),\n",
    "    ('надо что то проводить', 'репрессии')\n",
    "]"
   ]
  },
  {
   "cell_type": "code",
   "execution_count": 357,
   "id": "ee2b4c50",
   "metadata": {},
   "outputs": [],
   "source": [
    "class Net(torch.nn.Module):\n",
    "    def __init__(self):\n",
    "        super(Net, self).__init__()\n",
    "        self.rnn1 = torch.nn.LSTM(1, chars_len, 1, batch_first=True)\n",
    "        self.rnn2 = torch.nn.LSTM(chars_len, chars_len, 1, batch_first=True)\n",
    "        self.rnn3 = torch.nn.LSTM(chars_len, chars_len, 1, batch_first=True)\n",
    "        self.rnn4 = torch.nn.LSTM(chars_len, chars_len, 1, batch_first=True)\n",
    "        \n",
    "    def postprocess(self, x):\n",
    "        x = torch.argmax(x, dim=2)\n",
    "        messages = []\n",
    "        for i in range(x.shape[0]):\n",
    "            msg_arr = [index_to_char(ind) for ind in x[i].tolist()]\n",
    "            msg = ''.join(msg_arr).strip()\n",
    "            messages.append(msg)\n",
    "        return messages\n",
    "        \n",
    "    def forward(self, x, raw=False):        \n",
    "        if type(x) == str:\n",
    "            x = [x]\n",
    "            \n",
    "        h0 = torch.zeros((1, len(x), chars_len))\n",
    "        c0 = torch.clone(h0)\n",
    "        \n",
    "        x = torch.tensor([\n",
    "            to_sequence(z) for z in x\n",
    "        ]).reshape((len(x), seq_len, 1))\n",
    "    \n",
    "        x = x.type(torch.float32)\n",
    "        x, hidden = self.rnn1(x, (h0, c0))\n",
    "        x, hidden = self.rnn2(x, hidden)\n",
    "        x, hidden = self.rnn3(x, hidden)\n",
    "        x, hidden = self.rnn4(x, hidden)\n",
    "\n",
    "        if raw:\n",
    "            return x\n",
    "        \n",
    "        return self.postprocess(x)"
   ]
  },
  {
   "cell_type": "code",
   "execution_count": 366,
   "id": "8d401334",
   "metadata": {},
   "outputs": [],
   "source": [
    "model = Net()"
   ]
  },
  {
   "cell_type": "code",
   "execution_count": 367,
   "id": "0467aeb1",
   "metadata": {},
   "outputs": [],
   "source": [
    "criterion = torch.nn.MSELoss()\n",
    "optimizer = torch.optim.Adam(model.parameters())"
   ]
  },
  {
   "cell_type": "code",
   "execution_count": null,
   "id": "8d9330bb",
   "metadata": {},
   "outputs": [],
   "source": [
    "ds = process_dataset(dataset)\n",
    "\n",
    "for ep in range(1000):\n",
    "    for i in range(len(ds)):\n",
    "        x, y = ds[i]\n",
    "        pred = model(x, raw=True).type(torch.float32)\n",
    "        loss = criterion(pred, y)\n",
    "        print('Epoch', ep, 'Loss:', loss)\n",
    "        optimizer.zero_grad()\n",
    "        loss.backward()\n",
    "        optimizer.step()"
   ]
  },
  {
   "cell_type": "markdown",
   "id": "ccef6fc4",
   "metadata": {},
   "source": [
    "ITERATION 1"
   ]
  },
  {
   "cell_type": "code",
   "execution_count": 351,
   "id": "5b10e380",
   "metadata": {},
   "outputs": [
    {
     "data": {
      "text/plain": [
       "['ки аууо   уе', 'играть', 'сиать', 'киать', 'кинуть атттвуть']"
      ]
     },
     "execution_count": 351,
     "metadata": {},
     "output_type": "execute_result"
    }
   ],
   "source": [
    "model([\n",
    "    'на улице светит солнце',\n",
    "    'его величество фюрер заходит',\n",
    "    'наступила ночь',\n",
    "    'наступило утро',\n",
    "    'фюрер освободился'\n",
    "])"
   ]
  },
  {
   "cell_type": "markdown",
   "id": "81921848",
   "metadata": {},
   "source": [
    "ITERATION 2"
   ]
  },
  {
   "cell_type": "code",
   "execution_count": 394,
   "id": "ae7d8553",
   "metadata": {},
   "outputs": [
    {
     "data": {
      "text/plain": [
       "['вопеть',\n",
       " 'оикак',\n",
       " 'рападатьять',\n",
       " 'кинутьеллнодыюю зигу',\n",
       " 'стоат ь',\n",
       " 'атомной бомбой',\n",
       " 'спп   я',\n",
       " 'водерать',\n",
       " 'пинауа',\n",
       " 'вуоитььмлотни д м',\n",
       " 'попсрть',\n",
       " 'питт',\n",
       " 'остановить нахер',\n",
       " 'супутьеелиндыль']"
      ]
     },
     "execution_count": 394,
     "metadata": {},
     "output_type": "execute_result"
    }
   ],
   "source": [
    "model([\n",
    "    'что делать',\n",
    "    'керас',\n",
    "    'наступило утро',\n",
    "    'фюрер пришёл',\n",
    "    'нужна плотнейшая зига',\n",
    "    'сша шутит над японией',\n",
    "    'произошёл непредвиденный случай',\n",
    "    'что то делать',\n",
    "    'как правильно кидать зигу',\n",
    "    'сталин принял решение',\n",
    "    'на улице ветрено',\n",
    "    'кофе убежало',\n",
    "    'молоко бежит',\n",
    "    'программист уволился'\n",
    "])"
   ]
  },
  {
   "cell_type": "code",
   "execution_count": 395,
   "id": "b432d7ab",
   "metadata": {},
   "outputs": [],
   "source": [
    "torch.save(model.state_dict(), 'model.mdl')"
   ]
  }
 ],
 "metadata": {
  "kernelspec": {
   "display_name": "Python 3 (ipykernel)",
   "language": "python",
   "name": "python3"
  },
  "language_info": {
   "codemirror_mode": {
    "name": "ipython",
    "version": 3
   },
   "file_extension": ".py",
   "mimetype": "text/x-python",
   "name": "python",
   "nbconvert_exporter": "python",
   "pygments_lexer": "ipython3",
   "version": "3.9.2"
  }
 },
 "nbformat": 4,
 "nbformat_minor": 5
}
